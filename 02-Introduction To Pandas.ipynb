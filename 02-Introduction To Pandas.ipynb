{
 "cells": [
  {
   "cell_type": "markdown",
   "id": "4bdf14a2",
   "metadata": {},
   "source": [
    "# Introduction\n",
    "\n",
    "Pandas is a powerful and popular Python library used for data manipulation and analysis. It provides data structures and functions to efficiently handle structured data, including tabular data such as spreadsheets and SQL tables"
   ]
  },
  {
   "cell_type": "markdown",
   "id": "04086406",
   "metadata": {},
   "source": [
    "# Why Use Pandas?\n",
    "1. **Efficient Data Handling:** Pandas allows you to efficiently handle large datasets with millions of rows and columns.\n",
    "2. **Flexible Data Structures:** Pandas provides two primary data structures: Series (1-dimensional labeled array) and DataFrame (2-dimensional labeled data structure with columns of potentially different types).\n",
    "3. **Easy Data Manipulation:** Pandas provides various methods for data manipulation, such as filtering, sorting, grouping, and merging data.\n",
    "4. **Integration with Other Libraries:** Pandas integrates well with other popular Python libraries, such as NumPy, Matplotlib, and Scikit-learn, making it a great tool for data science and scientific computing.\n"
   ]
  },
  {
   "cell_type": "markdown",
   "id": "cf15bce7",
   "metadata": {},
   "source": [
    "# Types of Data Structure\n",
    "Pandas provides two primary data structures:\n",
    "1. Series (1-dimensional labeled array): pd.Series\n",
    "2. DataFrame (2-dimensional labeled data structure with columns of potentially different types): pd.DataFrame\n",
    "\n",
    "## Pandas Series\n",
    "What is a Pandas Series?\n",
    "<ul style=\"margin:0\">\n",
    "<li> A Pandas Series is a one-dimensional labeled array capable of holding data of any type (integer, string, float, python objects, etc.).</li>\n",
    "<li>The axis labels are collectively referred to as the index.</li>\n",
    "<li>Series is similar to a column in a DataFrame or a single column of data in a table.</li>\n",
    "</ul>"
   ]
  },
  {
   "cell_type": "code",
   "execution_count": 1,
   "id": "ba4afe84",
   "metadata": {},
   "outputs": [
    {
     "data": {
      "text/plain": [
       "0    1\n",
       "1    2\n",
       "2    3\n",
       "3    4\n",
       "4    5\n",
       "dtype: int64"
      ]
     },
     "execution_count": 1,
     "metadata": {},
     "output_type": "execute_result"
    }
   ],
   "source": [
    "#Creating a Series from list\n",
    "import pandas as pd\n",
    "import numpy as np\n",
    "\n",
    "data = [1, 2, 3, 4, 5]\n",
    "s = pd.Series(data)\n",
    "s"
   ]
  },
  {
   "cell_type": "code",
   "execution_count": 2,
   "id": "86ee6ead",
   "metadata": {},
   "outputs": [
    {
     "data": {
      "text/plain": [
       "0    1\n",
       "1    2\n",
       "2    3\n",
       "3    4\n",
       "4    5\n",
       "dtype: int32"
      ]
     },
     "execution_count": 2,
     "metadata": {},
     "output_type": "execute_result"
    }
   ],
   "source": [
    "#Creating a Series from numpy array\n",
    "np_array = np.array([1, 2, 3, 4, 5])\n",
    "data = pd.Series(np_array)\n",
    "data"
   ]
  },
  {
   "cell_type": "code",
   "execution_count": 3,
   "id": "79bf0a33",
   "metadata": {},
   "outputs": [
    {
     "data": {
      "text/plain": [
       "key1    a\n",
       "key2    b\n",
       "key3    c\n",
       "key4    d\n",
       "dtype: object"
      ]
     },
     "execution_count": 3,
     "metadata": {},
     "output_type": "execute_result"
    }
   ],
   "source": [
    "#Creating a Series from dictionary\n",
    "d = {'key1':'a', 'key2':'b', 'key3':'c', 'key4':'d'}\n",
    "data = pd.Series(d)\n",
    "data"
   ]
  },
  {
   "cell_type": "code",
   "execution_count": 4,
   "id": "f17927b1",
   "metadata": {},
   "outputs": [
    {
     "data": {
      "text/plain": [
       "a    1\n",
       "b    2\n",
       "c    3\n",
       "d    4\n",
       "e    5\n",
       "dtype: int64"
      ]
     },
     "execution_count": 4,
     "metadata": {},
     "output_type": "execute_result"
    }
   ],
   "source": [
    "#Creating a Series from list with custom index\n",
    "\n",
    "data = [1, 2, 3, 4, 5]\n",
    "s = pd.Series(data, index=['a', 'b', 'c', 'd', 'e'])\n",
    "s"
   ]
  },
  {
   "cell_type": "markdown",
   "id": "604d45f3",
   "metadata": {},
   "source": [
    "## Accessing Data in a Series"
   ]
  },
  {
   "cell_type": "code",
   "execution_count": 5,
   "id": "e52871f5",
   "metadata": {},
   "outputs": [
    {
     "data": {
      "text/plain": [
       "1"
      ]
     },
     "execution_count": 5,
     "metadata": {},
     "output_type": "execute_result"
    }
   ],
   "source": [
    "# Using Index\n",
    "s['a']"
   ]
  },
  {
   "cell_type": "code",
   "execution_count": 6,
   "id": "db5812f8",
   "metadata": {},
   "outputs": [
    {
     "data": {
      "text/plain": [
       "1"
      ]
     },
     "execution_count": 6,
     "metadata": {},
     "output_type": "execute_result"
    }
   ],
   "source": [
    "# by integer location\n",
    "s[0]"
   ]
  },
  {
   "cell_type": "code",
   "execution_count": 7,
   "id": "ae8b6fba",
   "metadata": {},
   "outputs": [
    {
     "data": {
      "text/plain": [
       "b    2\n",
       "c    3\n",
       "dtype: int64"
      ]
     },
     "execution_count": 7,
     "metadata": {},
     "output_type": "execute_result"
    }
   ],
   "source": [
    "# using slicing\n",
    "s[1:3]"
   ]
  },
  {
   "cell_type": "code",
   "execution_count": 8,
   "id": "92212035",
   "metadata": {},
   "outputs": [
    {
     "name": "stdout",
     "output_type": "stream",
     "text": [
      "1\n",
      "2\n"
     ]
    }
   ],
   "source": [
    "#using .iloc and .loc\n",
    "print(s.iloc[0])\n",
    "print(s.loc['b'])"
   ]
  },
  {
   "cell_type": "markdown",
   "id": "e6b89ae5",
   "metadata": {},
   "source": [
    "## Pandas DataFrame\n",
    "The pandas DataFrame is a two-dimensional table of data with column and row indexes. The columns are made up of pandas Series objects.\n",
    "<br>\n",
    "<img src=\"img/Picture1.png\">"
   ]
  },
  {
   "cell_type": "markdown",
   "id": "af212e73",
   "metadata": {},
   "source": [
    "### Get your data into a DataFrame\n",
    "1. Load a DataFrame from a CSV file\n",
    "<img src=\"img/Picture4.png\">\n",
    "<br>\n",
    "2. Load DataFrames from a Microsoft Excel file\n",
    "<img src=\"img/Picture5.png\">\n",
    "<br>\n",
    "3. Load a DataFrame from a MySQL database\n",
    "<img src=\"img/Picture6.png\"> \n",
    "<br>\n",
    "4. Data in Series then combine into a DataFrame\n",
    "<img src=\"img/Picture7.png\"> \n",
    "<br>\n",
    "5. Get a DataFrame from data in a Python dictionary\n",
    "<img src=\"img/Picture8.png\">\n",
    "<img src=\"img/Picture9.png\">"
   ]
  },
  {
   "cell_type": "code",
   "execution_count": 9,
   "id": "f34f6c6b",
   "metadata": {},
   "outputs": [
    {
     "data": {
      "text/html": [
       "<div>\n",
       "<style scoped>\n",
       "    .dataframe tbody tr th:only-of-type {\n",
       "        vertical-align: middle;\n",
       "    }\n",
       "\n",
       "    .dataframe tbody tr th {\n",
       "        vertical-align: top;\n",
       "    }\n",
       "\n",
       "    .dataframe thead th {\n",
       "        text-align: right;\n",
       "    }\n",
       "</style>\n",
       "<table border=\"1\" class=\"dataframe\">\n",
       "  <thead>\n",
       "    <tr style=\"text-align: right;\">\n",
       "      <th></th>\n",
       "      <th>Film</th>\n",
       "      <th>Genre</th>\n",
       "      <th>Lead Studio</th>\n",
       "      <th>Audience score %</th>\n",
       "      <th>Profitability</th>\n",
       "      <th>Rotten Tomatoes %</th>\n",
       "      <th>Worldwide Gross</th>\n",
       "      <th>Year</th>\n",
       "    </tr>\n",
       "  </thead>\n",
       "  <tbody>\n",
       "    <tr>\n",
       "      <th>0</th>\n",
       "      <td>Zack and Miri Make a Porno</td>\n",
       "      <td>Romance</td>\n",
       "      <td>The Weinstein Company</td>\n",
       "      <td>70</td>\n",
       "      <td>1.747542</td>\n",
       "      <td>64</td>\n",
       "      <td>$41.94</td>\n",
       "      <td>2008</td>\n",
       "    </tr>\n",
       "    <tr>\n",
       "      <th>1</th>\n",
       "      <td>Youth in Revolt</td>\n",
       "      <td>Comedy</td>\n",
       "      <td>The Weinstein Company</td>\n",
       "      <td>52</td>\n",
       "      <td>1.090000</td>\n",
       "      <td>68</td>\n",
       "      <td>$19.62</td>\n",
       "      <td>2010</td>\n",
       "    </tr>\n",
       "    <tr>\n",
       "      <th>2</th>\n",
       "      <td>You Will Meet a Tall Dark Stranger</td>\n",
       "      <td>Comedy</td>\n",
       "      <td>Independent</td>\n",
       "      <td>35</td>\n",
       "      <td>1.211818</td>\n",
       "      <td>43</td>\n",
       "      <td>$26.66</td>\n",
       "      <td>2010</td>\n",
       "    </tr>\n",
       "    <tr>\n",
       "      <th>3</th>\n",
       "      <td>When in Rome</td>\n",
       "      <td>Comedy</td>\n",
       "      <td>Disney</td>\n",
       "      <td>44</td>\n",
       "      <td>0.000000</td>\n",
       "      <td>15</td>\n",
       "      <td>$43.04</td>\n",
       "      <td>2010</td>\n",
       "    </tr>\n",
       "    <tr>\n",
       "      <th>4</th>\n",
       "      <td>What Happens in Vegas</td>\n",
       "      <td>Comedy</td>\n",
       "      <td>Fox</td>\n",
       "      <td>72</td>\n",
       "      <td>6.267647</td>\n",
       "      <td>28</td>\n",
       "      <td>$219.37</td>\n",
       "      <td>2008</td>\n",
       "    </tr>\n",
       "  </tbody>\n",
       "</table>\n",
       "</div>"
      ],
      "text/plain": [
       "                                 Film    Genre            Lead Studio  \\\n",
       "0          Zack and Miri Make a Porno  Romance  The Weinstein Company   \n",
       "1                     Youth in Revolt   Comedy  The Weinstein Company   \n",
       "2  You Will Meet a Tall Dark Stranger   Comedy            Independent   \n",
       "3                        When in Rome   Comedy                 Disney   \n",
       "4               What Happens in Vegas   Comedy                    Fox   \n",
       "\n",
       "   Audience score %  Profitability  Rotten Tomatoes % Worldwide Gross  Year  \n",
       "0                70       1.747542                 64         $41.94   2008  \n",
       "1                52       1.090000                 68         $19.62   2010  \n",
       "2                35       1.211818                 43         $26.66   2010  \n",
       "3                44       0.000000                 15         $43.04   2010  \n",
       "4                72       6.267647                 28        $219.37   2008  "
      ]
     },
     "execution_count": 9,
     "metadata": {},
     "output_type": "execute_result"
    }
   ],
   "source": [
    "#Load dataframe from csv\n",
    "df = pd.read_csv(\"data/movies.csv\")\n",
    "df.head()"
   ]
  },
  {
   "cell_type": "markdown",
   "id": "090d0853",
   "metadata": {},
   "source": [
    "The pandas Index provides the axis labels for the Series and DataFrame objects. It can only contain hashable objects. A pandas Series has one Index; and a DataFrame has two Indexes.\n",
    "<br>\n",
    "<img src=\"img/Picture3.png\">"
   ]
  },
  {
   "cell_type": "code",
   "execution_count": 10,
   "id": "1b294fc4",
   "metadata": {},
   "outputs": [
    {
     "name": "stdout",
     "output_type": "stream",
     "text": [
      "RangeIndex(start=0, stop=77, step=1)\n",
      "Index(['Film', 'Genre', 'Lead Studio', 'Audience score %', 'Profitability',\n",
      "       'Rotten Tomatoes %', 'Worldwide Gross', 'Year'],\n",
      "      dtype='object')\n"
     ]
    }
   ],
   "source": [
    "# get index and columns from dataframe\n",
    "idx = df.index\n",
    "print(idx)\n",
    "cols = df.columns\n",
    "print(cols)"
   ]
  },
  {
   "cell_type": "code",
   "execution_count": 11,
   "id": "e6ab28c2",
   "metadata": {},
   "outputs": [
    {
     "name": "stdout",
     "output_type": "stream",
     "text": [
      "False\n",
      "True\n",
      "False\n",
      "1\n"
     ]
    }
   ],
   "source": [
    "# some index attributes\n",
    "b = idx.is_monotonic_decreasing\n",
    "print(b)\n",
    "b = idx.is_monotonic_increasing\n",
    "print(b)\n",
    "b = idx.has_duplicates\n",
    "print(b)\n",
    "i = idx.nlevels\n",
    "print(i)"
   ]
  },
  {
   "cell_type": "code",
   "execution_count": 12,
   "id": "06c71094",
   "metadata": {},
   "outputs": [
    {
     "name": "stdout",
     "output_type": "stream",
     "text": [
      "<class 'numpy.ndarray'> [ 0  1  2  3  4  5  6  7  8  9 10 11 12 13 14 15 16 17 18 19 20 21 22 23\n",
      " 24 25 26 27 28 29 30 31 32 33 34 35 36 37 38 39 40 41 42 43 44 45 46 47\n",
      " 48 49 50 51 52 53 54 55 56 57 58 59 60 61 62 63 64 65 66 67 68 69 70 71\n",
      " 72 73 74 75 76]\n"
     ]
    }
   ],
   "source": [
    "# some index methods\n",
    "a = idx.values\n",
    "print(type(a), a)"
   ]
  },
  {
   "cell_type": "code",
   "execution_count": 13,
   "id": "fca758af",
   "metadata": {},
   "outputs": [
    {
     "name": "stdout",
     "output_type": "stream",
     "text": [
      "<class 'list'> [0, 1, 2, 3, 4, 5, 6, 7, 8, 9, 10, 11, 12, 13, 14, 15, 16, 17, 18, 19, 20, 21, 22, 23, 24, 25, 26, 27, 28, 29, 30, 31, 32, 33, 34, 35, 36, 37, 38, 39, 40, 41, 42, 43, 44, 45, 46, 47, 48, 49, 50, 51, 52, 53, 54, 55, 56, 57, 58, 59, 60, 61, 62, 63, 64, 65, 66, 67, 68, 69, 70, 71, 72, 73, 74, 75, 76]\n"
     ]
    }
   ],
   "source": [
    "l = idx.tolist()\n",
    "print(type(l), l)"
   ]
  },
  {
   "cell_type": "code",
   "execution_count": 14,
   "id": "7b0b3ca3",
   "metadata": {},
   "outputs": [
    {
     "data": {
      "text/plain": [
       "Index(['0', '1', '2', '3', '4', '5', '6', '7', '8', '9', '10', '11', '12',\n",
       "       '13', '14', '15', '16', '17', '18', '19', '20', '21', '22', '23', '24',\n",
       "       '25', '26', '27', '28', '29', '30', '31', '32', '33', '34', '35', '36',\n",
       "       '37', '38', '39', '40', '41', '42', '43', '44', '45', '46', '47', '48',\n",
       "       '49', '50', '51', '52', '53', '54', '55', '56', '57', '58', '59', '60',\n",
       "       '61', '62', '63', '64', '65', '66', '67', '68', '69', '70', '71', '72',\n",
       "       '73', '74', '75', '76'],\n",
       "      dtype='object')"
      ]
     },
     "execution_count": 14,
     "metadata": {},
     "output_type": "execute_result"
    }
   ],
   "source": [
    "idx1 = idx.astype('str')\n",
    "idx1"
   ]
  },
  {
   "cell_type": "code",
   "execution_count": 15,
   "id": "b0a5d0c4",
   "metadata": {},
   "outputs": [
    {
     "name": "stdout",
     "output_type": "stream",
     "text": [
      "77\n"
     ]
    }
   ],
   "source": [
    "i = idx.nunique()\n",
    "print(i)"
   ]
  },
  {
   "cell_type": "code",
   "execution_count": 16,
   "id": "da467026",
   "metadata": {},
   "outputs": [
    {
     "name": "stdout",
     "output_type": "stream",
     "text": [
      "76\n",
      "0\n"
     ]
    }
   ],
   "source": [
    "max_label = idx.max()\n",
    "print(max_label)\n",
    "min_label = idx.min()\n",
    "print(min_label)"
   ]
  },
  {
   "cell_type": "markdown",
   "id": "51611a0f",
   "metadata": {},
   "source": [
    "### Saving a DataFrame\n",
    "1. Saving a DataFrame to a CSV file\n",
    "<img src=\"img/Picture10.png\">\n",
    "<br>\n",
    "2. Saving DataFrames to an Excel Workbook\n",
    "<img src=\"img/Picture11.png\">\n",
    "<br>\n",
    "3. Saving a DataFrame to MySQL\n",
    "<img src=\"img/Picture12.png\"> \n",
    "<br>\n",
    "4. Saving a DataFrame to a Python dictionary\n",
    "<img src=\"img/Picture13.png\"> \n",
    "<br>\n",
    "5. Saving a DataFrame to a Python string\n",
    "<img src=\"img/Picture14.png\"> \n",
    "<br>"
   ]
  },
  {
   "cell_type": "code",
   "execution_count": null,
   "id": "7806bfe6",
   "metadata": {},
   "outputs": [],
   "source": []
  }
 ],
 "metadata": {
  "kernelspec": {
   "display_name": "Python 3 (ipykernel)",
   "language": "python",
   "name": "python3"
  },
  "language_info": {
   "codemirror_mode": {
    "name": "ipython",
    "version": 3
   },
   "file_extension": ".py",
   "mimetype": "text/x-python",
   "name": "python",
   "nbconvert_exporter": "python",
   "pygments_lexer": "ipython3",
   "version": "3.11.5"
  }
 },
 "nbformat": 4,
 "nbformat_minor": 5
}
