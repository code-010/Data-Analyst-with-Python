{
 "cells": [
  {
   "cell_type": "markdown",
   "id": "f28398fd",
   "metadata": {},
   "source": [
    "# What is Python?\n",
    "\n",
    "* Python is a high-level, interpreted, and general-purpose programming language.\n",
    "* Created by Guido van Rossum and first released in 1991.\n",
    "* Known for its readability and simple syntax which emphasizes code readability and reduces the cost of program maintenance.\n",
    "* Supports multiple programming paradigms, including procedural, object-oriented, and functional programming."
   ]
  },
  {
   "cell_type": "markdown",
   "id": "ebdb76a6",
   "metadata": {},
   "source": [
    "# Key Features of Python\n",
    "\n",
    "1. **Easy to Learn and Use**\n",
    "    - Python has a simple syntax similar to English, which makes it easy to read and write.\n",
    "    - It’s an excellent language for beginners due to its simplicity and readability.\n",
    "\n",
    "2. **Interpreted Language**\n",
    "    - Python is an interpreted language, which means that the code is executed line by line.\n",
    "    - This makes debugging easier and is suitable for scripting and rapid application development.\n",
    "\n",
    "3. **Dynamically Typed**\n",
    "    - You don't need to declare the type of a variable when you create one. It is determined at runtime.\n",
    "\n",
    "4. **Portable**\n",
    "    - Python code can run on different platforms without modification (Windows, macOS, Linux).\n",
    "\n",
    "5. **Extensive Standard Library**\n",
    "    - Python has a large standard library which provides a rich set of modules and functions for various tasks.\n",
    "\n",
    "6. **Community and Support**\n",
    "    - Python has a vast community that contributes to its development and provides a wealth of resources for learning and problem-solving.\n"
   ]
  },
  {
   "cell_type": "markdown",
   "id": "d26a314e",
   "metadata": {},
   "source": [
    "1. <strong>Hello World Program</strong><ul style=\"margin-top:0;\"><li>The print() function in Python is used to print Python objects as strings as standard output.</li></ul>\n",
    "2. <strong>Variables and Data Types</strong><ul style=\"margin-top:0;\"><li>Variables are containers for storing data values.</li><li>Python has no command for declaring a variable.</li><li>A variable is created the moment you first assign a value to it.</li><li>Variables do not need to be declared with any particular type, and can even change type after they have been set.</li><li>Python has the following data types built-in by default, in these categories:</li></ul>\n",
    "\n",
    "<table>\n",
    "  <thead>\n",
    "    <tr>\n",
    "      <th>Category</th>\n",
    "      <th>Data Types</th>\n",
    "    </tr>\n",
    "  </thead>\n",
    "  <tbody>\n",
    "    <tr>\n",
    "      <td>Text Type:</td>\n",
    "      <td>str</td>\n",
    "    </tr>\n",
    "    <tr>\n",
    "      <td>Numeric Types:</td>\n",
    "      <td>int, float, complex</td>\n",
    "    </tr>\n",
    "    <tr>\n",
    "      <td>Sequence Types:</td>\n",
    "      <td>list, tuple, range</td>\n",
    "    </tr>\n",
    "    <tr>\n",
    "      <td>Mapping Type:</td>\n",
    "      <td>dict</td>\n",
    "    </tr>\n",
    "    <tr>\n",
    "      <td>Set Types:</td>\n",
    "      <td>set, frozenset</td>\n",
    "    </tr>\n",
    "    <tr>\n",
    "      <td>Boolean Type:</td>\n",
    "      <td>bool</td>\n",
    "    </tr>\n",
    "    <tr>\n",
    "      <td>Binary Types:</td>\n",
    "      <td>bytes, bytearray, memoryview</td>\n",
    "    </tr>\n",
    "    <tr>\n",
    "      <td>None Type:</td>\n",
    "      <td>NoneType</td>\n",
    "    </tr>\n",
    "  </tbody>\n",
    "</table>\n",
    "\n",
    "3. <strong>Comments</strong><ul style=\"margin-top:0;\"><li>Single-line comments start with a #</li><li>Python does not really have a syntax for multiline comments. To add a multiline comment, you could insert a # for each line</li></ul>\n",
    "4. <strong>Indentation</strong><ul style=\"margin-top:0;\"><li>Indentation is crucial in Python as it defines the scope of loops, functions, and classes.</li></ul>\n",
    "5. <strong>Data Structures</strong><ul style=\"margin-top:0;\"><li>Lists, tuples, sets, and dictionaries are the built-in data structures.</li></ul>\n"
   ]
  },
  {
   "cell_type": "code",
   "execution_count": null,
   "id": "d025f703",
   "metadata": {},
   "outputs": [],
   "source": []
  }
 ],
 "metadata": {
  "kernelspec": {
   "display_name": "Python 3 (ipykernel)",
   "language": "python",
   "name": "python3"
  },
  "language_info": {
   "codemirror_mode": {
    "name": "ipython",
    "version": 3
   },
   "file_extension": ".py",
   "mimetype": "text/x-python",
   "name": "python",
   "nbconvert_exporter": "python",
   "pygments_lexer": "ipython3",
   "version": "3.11.5"
  }
 },
 "nbformat": 4,
 "nbformat_minor": 5
}
